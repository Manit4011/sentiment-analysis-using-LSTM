{
  "cells": [
    {
      "cell_type": "code",
      "execution_count": null,
      "metadata": {
        "id": "idbgEuVK9CSt"
      },
      "outputs": [],
      "source": [
        "#importing libraries\n",
        "import re\n",
        "import pandas as pd\n",
        "import numpy as np\n",
        "from bs4 import BeautifulSoup\n",
        "from sklearn.model_selection import train_test_split\n",
        "from tensorflow.keras.preprocessing.text import Tokenizer\n",
        "from tensorflow.keras.preprocessing.sequence import pad_sequences\n",
        "from tensorflow.keras.models import Sequential\n",
        "from tensorflow.keras.layers import Embedding, LSTM, Dense, Dropout, SpatialDropout1D, Bidirectional"
      ]
    },
    {
      "cell_type": "code",
      "execution_count": 4,
      "metadata": {
        "id": "xWjkzT_V9cwe"
      },
      "outputs": [],
      "source": [
        "data = pd.read_csv(\"/content/IMDB Dataset.csv\")"
      ]
    },
    {
      "cell_type": "code",
      "execution_count": null,
      "metadata": {
        "id": "WqqWWpAQ9iUF"
      },
      "outputs": [],
      "source": [
        "#function to clean text data\n",
        "def clean_text(text):\n",
        "    text = BeautifulSoup(text, \"html.parser\").get_text()   # remove HTML tags\n",
        "    text = re.sub(\"[^a-zA-Z]\", \" \", text)                  # keep only letters\n",
        "    text = text.lower()                                    # lowercase\n",
        "    return text\n",
        "\n",
        "data[\"review\"] = data[\"review\"].apply(clean_text)"
      ]
    },
    {
      "cell_type": "code",
      "execution_count": null,
      "metadata": {
        "colab": {
          "base_uri": "https://localhost:8080/"
        },
        "id": "tFH3oCMl9ze2",
        "outputId": "997f56e3-c534-4901-e465-04ec49041478"
      },
      "outputs": [
        {
          "name": "stderr",
          "output_type": "stream",
          "text": [
            "/tmp/ipython-input-2568826810.py:1: FutureWarning: Downcasting behavior in `replace` is deprecated and will be removed in a future version. To retain the old behavior, explicitly call `result.infer_objects(copy=False)`. To opt-in to the future behavior, set `pd.set_option('future.no_silent_downcasting', True)`\n",
            "  data.replace({\"sentiment\": {\"positive\": 1, \"negative\": 0}}, inplace=True)\n"
          ]
        }
      ],
      "source": [
        "#encoding target variable\n",
        "data.replace({\"sentiment\": {\"positive\": 1, \"negative\": 0}}, inplace=True)"
      ]
    },
    {
      "cell_type": "code",
      "execution_count": null,
      "metadata": {
        "id": "MXtRYDyC92EM"
      },
      "outputs": [],
      "source": [
        "# 4. Train-Test Split\n",
        "train_data, test_data = train_test_split(data, test_size=0.2, random_state=42)"
      ]
    },
    {
      "cell_type": "code",
      "execution_count": null,
      "metadata": {
        "id": "XCIHUjMq95NG"
      },
      "outputs": [],
      "source": [
        "# 5. Tokenization because neural networks work with numbers\n",
        "\n",
        "MAX_WORDS = 10000   # vocab size\n",
        "MAX_LEN = 300       # review length\n",
        "\n",
        "tokenizer = Tokenizer(num_words=MAX_WORDS)\n",
        "tokenizer.fit_on_texts(train_data[\"review\"])"
      ]
    },
    {
      "cell_type": "code",
      "execution_count": null,
      "metadata": {
        "id": "ZhU63aMG99G2"
      },
      "outputs": [],
      "source": [
        "# Padding since lstm requires fixed length input\n",
        "X_train = pad_sequences(tokenizer.texts_to_sequences(train_data[\"review\"]), maxlen=MAX_LEN)\n",
        "X_test = pad_sequences(tokenizer.texts_to_sequences(test_data[\"review\"]), maxlen=MAX_LEN)\n",
        "\n",
        "Y_train = train_data[\"sentiment\"].values\n",
        "Y_test = test_data[\"sentiment\"].values"
      ]
    },
    {
      "cell_type": "code",
      "execution_count": null,
      "metadata": {
        "colab": {
          "base_uri": "https://localhost:8080/"
        },
        "id": "DGPQ7SzK9--m",
        "outputId": "414e7314-089f-4ae8-98bc-3acd1e59347a"
      },
      "outputs": [
        {
          "name": "stdout",
          "output_type": "stream",
          "text": [
            "Epoch 1/6\n"
          ]
        },
        {
          "name": "stderr",
          "output_type": "stream",
          "text": [
            "/usr/local/lib/python3.12/dist-packages/keras/src/layers/core/embedding.py:97: UserWarning: Argument `input_length` is deprecated. Just remove it.\n",
            "  warnings.warn(\n"
          ]
        },
        {
          "name": "stdout",
          "output_type": "stream",
          "text": [
            "\u001b[1m500/500\u001b[0m \u001b[32m━━━━━━━━━━━━━━━━━━━━\u001b[0m\u001b[37m\u001b[0m \u001b[1m543s\u001b[0m 1s/step - accuracy: 0.7043 - loss: 0.5481 - val_accuracy: 0.8079 - val_loss: 0.4258\n",
            "Epoch 2/6\n",
            "\u001b[1m500/500\u001b[0m \u001b[32m━━━━━━━━━━━━━━━━━━━━\u001b[0m\u001b[37m\u001b[0m \u001b[1m531s\u001b[0m 1s/step - accuracy: 0.8157 - loss: 0.4369 - val_accuracy: 0.7809 - val_loss: 0.4624\n",
            "Epoch 3/6\n",
            "\u001b[1m500/500\u001b[0m \u001b[32m━━━━━━━━━━━━━━━━━━━━\u001b[0m\u001b[37m\u001b[0m \u001b[1m562s\u001b[0m 1s/step - accuracy: 0.8651 - loss: 0.3398 - val_accuracy: 0.8680 - val_loss: 0.3304\n",
            "Epoch 4/6\n",
            "\u001b[1m500/500\u001b[0m \u001b[32m━━━━━━━━━━━━━━━━━━━━\u001b[0m\u001b[37m\u001b[0m \u001b[1m534s\u001b[0m 1s/step - accuracy: 0.8996 - loss: 0.2663 - val_accuracy: 0.8620 - val_loss: 0.3448\n",
            "Epoch 5/6\n",
            "\u001b[1m500/500\u001b[0m \u001b[32m━━━━━━━━━━━━━━━━━━━━\u001b[0m\u001b[37m\u001b[0m \u001b[1m555s\u001b[0m 1s/step - accuracy: 0.9001 - loss: 0.2628 - val_accuracy: 0.8528 - val_loss: 0.3674\n",
            "Epoch 6/6\n",
            "\u001b[1m500/500\u001b[0m \u001b[32m━━━━━━━━━━━━━━━━━━━━\u001b[0m\u001b[37m\u001b[0m \u001b[1m563s\u001b[0m 1s/step - accuracy: 0.9194 - loss: 0.2198 - val_accuracy: 0.8763 - val_loss: 0.3185\n"
          ]
        }
      ],
      "source": [
        "# 6. Build Model\n",
        "\n",
        "model = Sequential()\n",
        "model.add(Embedding(input_dim=MAX_WORDS, output_dim=128, input_length=MAX_LEN)) #embedding for word vectors\n",
        "model.add(SpatialDropout1D(0.2)) #spatial dropout to prevent overfitting\n",
        "model.add(Bidirectional(LSTM(128, dropout=0.2, recurrent_dropout=0.2))) #bidirectional lstm layer for context from both directions => better understanding\n",
        "\n",
        "model.add(Dense(64, activation=\"relu\"))\n",
        "model.add(Dropout(0.5))\n",
        "model.add(Dense(1, activation=\"sigmoid\"))\n",
        "\n",
        "model.compile(\n",
        "    loss=\"binary_crossentropy\",\n",
        "    optimizer=\"adam\",\n",
        "    metrics=[\"accuracy\"]\n",
        ")\n",
        "\n",
        "history = model.fit(\n",
        "    X_train, Y_train,\n",
        "    batch_size=64,\n",
        "    epochs=6,\n",
        "    validation_split=0.2,\n",
        "    verbose=1\n",
        ")"
      ]
    },
    {
      "cell_type": "code",
      "execution_count": null,
      "metadata": {
        "colab": {
          "base_uri": "https://localhost:8080/"
        },
        "id": "WJVTshZV-CZu",
        "outputId": "69e6cbc0-b31a-4d42-938b-8e2b6332d720"
      },
      "outputs": [
        {
          "name": "stdout",
          "output_type": "stream",
          "text": [
            "\u001b[1m313/313\u001b[0m \u001b[32m━━━━━━━━━━━━━━━━━━━━\u001b[0m\u001b[37m\u001b[0m \u001b[1m102s\u001b[0m 323ms/step - accuracy: 0.8767 - loss: 0.3102\n",
            "\n",
            "✅ Test Accuracy: 88.00%\n",
            "\n",
            "Example Predictions:\n",
            "\u001b[1m1/1\u001b[0m \u001b[32m━━━━━━━━━━━━━━━━━━━━\u001b[0m\u001b[37m\u001b[0m \u001b[1m1s\u001b[0m 913ms/step\n",
            "('Positive 😀', np.float32(0.97700953))\n",
            "\u001b[1m1/1\u001b[0m \u001b[32m━━━━━━━━━━━━━━━━━━━━\u001b[0m\u001b[37m\u001b[0m \u001b[1m0s\u001b[0m 414ms/step\n",
            "('Negative 😞', np.float32(0.0050804415))\n"
          ]
        }
      ],
      "source": [
        "# 9. Evaluate Model\n",
        "\n",
        "loss, accuracy = model.evaluate(X_test, Y_test, verbose=1)\n",
        "print(f\"\\n✅ Test Accuracy: {accuracy*100:.2f}%\")\n",
        "\n",
        "\n",
        "# 10. building a prediction function\n",
        "\n",
        "def predict_sentiment(review):\n",
        "    review = clean_text(review)#cleaning the review\n",
        "    seq = tokenizer.texts_to_sequences([review])#tokenizing the review\n",
        "    padded = pad_sequences(seq, maxlen=MAX_LEN)#padding the review to make it of same length as training data\n",
        "    pred = model.predict(padded)[0][0]#predicting the sentiment\n",
        "    sentiment = \"Positive 😀\" if pred >= 0.5 else \"Negative 😞\"#since output is given by sigmoid func\n",
        "    return sentiment, pred\n",
        "\n",
        "print(\"\\nExample Predictions:\")\n",
        "print(predict_sentiment(\"This movie was fantastic, I loved it!\"))\n",
        "print(predict_sentiment(\"Worst movie ever. Waste of time.\"))"
      ]
    },
    {
      "cell_type": "code",
      "execution_count": 12,
      "metadata": {
        "colab": {
          "base_uri": "https://localhost:8080/"
        },
        "id": "J8RHeDiCKgqd",
        "outputId": "aafb705f-25b1-4347-fb96-5b2697d1c7fa"
      },
      "outputs": [
        {
          "name": "stderr",
          "output_type": "stream",
          "text": [
            "WARNING:absl:You are saving your model as an HDF5 file via `model.save()` or `keras.saving.save_model(model)`. This file format is considered legacy. We recommend using instead the native Keras format, e.g. `model.save('my_model.keras')` or `keras.saving.save_model(model, 'my_model.keras')`. \n"
          ]
        }
      ],
      "source": [
        "# Save the full model to a file\n",
        "model.save(\"imdb_sentiment_model.h5\")\n"
      ]
    },
    {
      "cell_type": "code",
      "execution_count": null,
      "metadata": {
        "id": "KvtfaeJxLVJk"
      },
      "outputs": [],
      "source": []
    }
  ],
  "metadata": {
    "accelerator": "GPU",
    "colab": {
      "gpuType": "T4",
      "provenance": []
    },
    "kernelspec": {
      "display_name": "Python 3",
      "name": "python3"
    },
    "language_info": {
      "name": "python"
    }
  },
  "nbformat": 4,
  "nbformat_minor": 0
}
