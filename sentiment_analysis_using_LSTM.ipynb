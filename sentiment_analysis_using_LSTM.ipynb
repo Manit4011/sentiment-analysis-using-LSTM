{
  "cells": [
    {
      "cell_type": "code",
      "execution_count": 2,
      "metadata": {
        "id": "idbgEuVK9CSt"
      },
      "outputs": [],
      "source": [
        "#importing libraries\n",
        "import re\n",
        "import pandas as pd\n",
        "import numpy as np\n",
        "from bs4 import BeautifulSoup\n",
        "from sklearn.model_selection import train_test_split\n",
        "from tensorflow.keras.preprocessing.text import Tokenizer\n",
        "from tensorflow.keras.preprocessing.sequence import pad_sequences\n",
        "from tensorflow.keras.models import Sequential\n",
        "from tensorflow.keras.layers import Embedding, LSTM, Dense, Dropout, SpatialDropout1D, Bidirectional"
      ]
    },
    {
      "cell_type": "code",
      "execution_count": 4,
      "metadata": {
        "id": "xWjkzT_V9cwe"
      },
      "outputs": [],
      "source": [
        "data = pd.read_csv(r\"D:\\machine learning\\datasets\\imdb-dataset-of-50k-movie-reviews\\IMDB Dataset.csv\")"
      ]
    },
    {
      "cell_type": "code",
      "execution_count": 6,
      "metadata": {},
      "outputs": [
        {
          "data": {
            "text/html": [
              "<div>\n",
              "<style scoped>\n",
              "    .dataframe tbody tr th:only-of-type {\n",
              "        vertical-align: middle;\n",
              "    }\n",
              "\n",
              "    .dataframe tbody tr th {\n",
              "        vertical-align: top;\n",
              "    }\n",
              "\n",
              "    .dataframe thead th {\n",
              "        text-align: right;\n",
              "    }\n",
              "</style>\n",
              "<table border=\"1\" class=\"dataframe\">\n",
              "  <thead>\n",
              "    <tr style=\"text-align: right;\">\n",
              "      <th></th>\n",
              "      <th>review</th>\n",
              "      <th>sentiment</th>\n",
              "    </tr>\n",
              "  </thead>\n",
              "  <tbody>\n",
              "    <tr>\n",
              "      <th>0</th>\n",
              "      <td>one of the other reviewers has mentioned that ...</td>\n",
              "      <td>positive</td>\n",
              "    </tr>\n",
              "    <tr>\n",
              "      <th>1</th>\n",
              "      <td>a wonderful little production  the filming tec...</td>\n",
              "      <td>positive</td>\n",
              "    </tr>\n",
              "    <tr>\n",
              "      <th>2</th>\n",
              "      <td>i thought this was a wonderful way to spend ti...</td>\n",
              "      <td>positive</td>\n",
              "    </tr>\n",
              "  </tbody>\n",
              "</table>\n",
              "</div>"
            ],
            "text/plain": [
              "                                              review sentiment\n",
              "0  one of the other reviewers has mentioned that ...  positive\n",
              "1  a wonderful little production  the filming tec...  positive\n",
              "2  i thought this was a wonderful way to spend ti...  positive"
            ]
          },
          "execution_count": 6,
          "metadata": {},
          "output_type": "execute_result"
        }
      ],
      "source": [
        "data.head(3)"
      ]
    },
    {
      "cell_type": "code",
      "execution_count": 5,
      "metadata": {
        "id": "WqqWWpAQ9iUF"
      },
      "outputs": [],
      "source": [
        "#function to clean text data\n",
        "def clean_text(text):\n",
        "    text = BeautifulSoup(text, \"html.parser\").get_text()   # remove HTML tags\n",
        "    text = re.sub(\"[^a-zA-Z]\", \" \", text)                  # keep only letters\n",
        "    text = text.lower()                                    # lowercase\n",
        "    return text\n",
        "\n",
        "data[\"review\"] = data[\"review\"].apply(clean_text)"
      ]
    },
    {
      "cell_type": "code",
      "execution_count": 7,
      "metadata": {
        "colab": {
          "base_uri": "https://localhost:8080/"
        },
        "id": "tFH3oCMl9ze2",
        "outputId": "997f56e3-c534-4901-e465-04ec49041478"
      },
      "outputs": [
        {
          "name": "stderr",
          "output_type": "stream",
          "text": [
            "C:\\Users\\manit\\AppData\\Local\\Temp\\ipykernel_22024\\1644339826.py:2: FutureWarning: Downcasting behavior in `replace` is deprecated and will be removed in a future version. To retain the old behavior, explicitly call `result.infer_objects(copy=False)`. To opt-in to the future behavior, set `pd.set_option('future.no_silent_downcasting', True)`\n",
            "  data.replace({\"sentiment\": {\"positive\": 1, \"negative\": 0}}, inplace=True)\n"
          ]
        }
      ],
      "source": [
        "#encoding target variable\n",
        "data.replace({\"sentiment\": {\"positive\": 1, \"negative\": 0}}, inplace=True)"
      ]
    },
    {
      "cell_type": "code",
      "execution_count": 8,
      "metadata": {
        "id": "MXtRYDyC92EM"
      },
      "outputs": [],
      "source": [
        "# 4. Train-Test Split\n",
        "train_data, test_data = train_test_split(data, test_size=0.2, random_state=42)"
      ]
    },
    {
      "cell_type": "code",
      "execution_count": 9,
      "metadata": {
        "id": "XCIHUjMq95NG"
      },
      "outputs": [],
      "source": [
        "# 5. Tokenization because neural networks work with numbers\n",
        "\n",
        "MAX_WORDS = 10000   # vocab size\n",
        "MAX_LEN = 300       # review length\n",
        "\n",
        "tokenizer = Tokenizer(num_words=MAX_WORDS)\n",
        "tokenizer.fit_on_texts(train_data[\"review\"])"
      ]
    },
    {
      "cell_type": "code",
      "execution_count": 10,
      "metadata": {
        "id": "ZhU63aMG99G2"
      },
      "outputs": [],
      "source": [
        "# Padding since lstm requires fixed length input\n",
        "X_train = pad_sequences(tokenizer.texts_to_sequences(train_data[\"review\"]), maxlen=MAX_LEN)\n",
        "X_test = pad_sequences(tokenizer.texts_to_sequences(test_data[\"review\"]), maxlen=MAX_LEN)\n",
        "\n",
        "Y_train = train_data[\"sentiment\"].values\n",
        "Y_test = test_data[\"sentiment\"].values"
      ]
    },
    {
      "cell_type": "code",
      "execution_count": 12,
      "metadata": {
        "colab": {
          "base_uri": "https://localhost:8080/"
        },
        "id": "DGPQ7SzK9--m",
        "outputId": "414e7314-089f-4ae8-98bc-3acd1e59347a"
      },
      "outputs": [
        {
          "name": "stdout",
          "output_type": "stream",
          "text": [
            "Epoch 1/6\n",
            "\u001b[1m500/500\u001b[0m \u001b[32m━━━━━━━━━━━━━━━━━━━━\u001b[0m\u001b[37m\u001b[0m \u001b[1m549s\u001b[0m 1s/step - accuracy: 0.7777 - loss: 0.4742 - val_accuracy: 0.8547 - val_loss: 0.3582\n",
            "Epoch 2/6\n",
            "\u001b[1m500/500\u001b[0m \u001b[32m━━━━━━━━━━━━━━━━━━━━\u001b[0m\u001b[37m\u001b[0m \u001b[1m528s\u001b[0m 1s/step - accuracy: 0.8613 - loss: 0.3527 - val_accuracy: 0.8493 - val_loss: 0.3727\n",
            "Epoch 3/6\n",
            "\u001b[1m500/500\u001b[0m \u001b[32m━━━━━━━━━━━━━━━━━━━━\u001b[0m\u001b[37m\u001b[0m \u001b[1m530s\u001b[0m 1s/step - accuracy: 0.8845 - loss: 0.2946 - val_accuracy: 0.8474 - val_loss: 0.4287\n",
            "Epoch 4/6\n",
            "\u001b[1m500/500\u001b[0m \u001b[32m━━━━━━━━━━━━━━━━━━━━\u001b[0m\u001b[37m\u001b[0m \u001b[1m522s\u001b[0m 1s/step - accuracy: 0.9010 - loss: 0.2647 - val_accuracy: 0.8509 - val_loss: 0.3867\n",
            "Epoch 5/6\n",
            "\u001b[1m500/500\u001b[0m \u001b[32m━━━━━━━━━━━━━━━━━━━━\u001b[0m\u001b[37m\u001b[0m \u001b[1m601s\u001b[0m 1s/step - accuracy: 0.9045 - loss: 0.2512 - val_accuracy: 0.8396 - val_loss: 0.3962\n",
            "Epoch 6/6\n",
            "\u001b[1m500/500\u001b[0m \u001b[32m━━━━━━━━━━━━━━━━━━━━\u001b[0m\u001b[37m\u001b[0m \u001b[1m632s\u001b[0m 1s/step - accuracy: 0.9260 - loss: 0.1986 - val_accuracy: 0.8701 - val_loss: 0.3673\n"
          ]
        }
      ],
      "source": [
        "# 6. Build Model\n",
        "\n",
        "model = Sequential()\n",
        "model.add(Embedding(input_dim=MAX_WORDS, output_dim=128, input_length=MAX_LEN)) #embedding for word vectors\n",
        "model.add(SpatialDropout1D(0.2)) #spatial dropout to prevent overfitting\n",
        "model.add(Bidirectional(LSTM(128, dropout=0.2, recurrent_dropout=0.2))) #bidirectional lstm layer for context from both directions => better understanding\n",
        "\n",
        "model.add(Dense(64, activation=\"relu\"))\n",
        "model.add(Dropout(0.5))\n",
        "model.add(Dense(1, activation=\"sigmoid\"))\n",
        "\n",
        "model.compile(\n",
        "    loss=\"binary_crossentropy\",\n",
        "    optimizer=\"adam\",\n",
        "    metrics=[\"accuracy\"]\n",
        ")\n",
        "\n",
        "history = model.fit(\n",
        "    X_train, Y_train,\n",
        "    batch_size=64,\n",
        "    epochs=6,\n",
        "    validation_split=0.2,\n",
        "    verbose=1\n",
        ")"
      ]
    },
    {
      "cell_type": "code",
      "execution_count": 13,
      "metadata": {
        "colab": {
          "base_uri": "https://localhost:8080/"
        },
        "id": "WJVTshZV-CZu",
        "outputId": "69e6cbc0-b31a-4d42-938b-8e2b6332d720"
      },
      "outputs": [
        {
          "name": "stdout",
          "output_type": "stream",
          "text": [
            "\u001b[1m313/313\u001b[0m \u001b[32m━━━━━━━━━━━━━━━━━━━━\u001b[0m\u001b[37m\u001b[0m \u001b[1m15s\u001b[0m 45ms/step - accuracy: 0.8694 - loss: 0.3612\n",
            "\n",
            "✅ Test Accuracy: 86.94%\n",
            "\n",
            "Example Predictions:\n",
            "\u001b[1m1/1\u001b[0m \u001b[32m━━━━━━━━━━━━━━━━━━━━\u001b[0m\u001b[37m\u001b[0m \u001b[1m0s\u001b[0m 387ms/step\n",
            "('Positive 😀', np.float32(0.9881547))\n",
            "\u001b[1m1/1\u001b[0m \u001b[32m━━━━━━━━━━━━━━━━━━━━\u001b[0m\u001b[37m\u001b[0m \u001b[1m0s\u001b[0m 47ms/step\n",
            "('Negative 😞', np.float32(0.0011047827))\n"
          ]
        }
      ],
      "source": [
        "# 9. Evaluate Model\n",
        "\n",
        "loss, accuracy = model.evaluate(X_test, Y_test, verbose=1)\n",
        "print(f\"\\n✅ Test Accuracy: {accuracy*100:.2f}%\")\n",
        "\n",
        "\n",
        "# 10. building a prediction function\n",
        "\n",
        "def predict_sentiment(review):\n",
        "    review = clean_text(review)#cleaning the review\n",
        "    seq = tokenizer.texts_to_sequences([review])#tokenizing the review\n",
        "    padded = pad_sequences(seq, maxlen=MAX_LEN)#padding the review to make it of same length as training data\n",
        "    pred = model.predict(padded)[0][0]#predicting the sentiment\n",
        "    sentiment = \"Positive 😀\" if pred >= 0.5 else \"Negative 😞\"#since output is given by sigmoid func\n",
        "    return sentiment, pred\n",
        "\n",
        "print(\"\\nExample Predictions:\")\n",
        "print(predict_sentiment(\"This movie was fantastic, I loved it!\"))\n",
        "print(predict_sentiment(\"Worst movie ever. Waste of time.\"))"
      ]
    },
    {
      "cell_type": "code",
      "execution_count": 15,
      "metadata": {
        "colab": {
          "base_uri": "https://localhost:8080/"
        },
        "id": "J8RHeDiCKgqd",
        "outputId": "aafb705f-25b1-4347-fb96-5b2697d1c7fa"
      },
      "outputs": [
        {
          "name": "stderr",
          "output_type": "stream",
          "text": [
            "WARNING:absl:You are saving your model as an HDF5 file via `model.save()` or `keras.saving.save_model(model)`. This file format is considered legacy. We recommend using instead the native Keras format, e.g. `model.save('my_model.keras')` or `keras.saving.save_model(model, 'my_model.keras')`. \n"
          ]
        }
      ],
      "source": [
        "# Save the full model to a file\n",
        "model.save(\"imdb_sentiment_model.h5\")\n"
      ]
    },
    {
      "cell_type": "code",
      "execution_count": 16,
      "metadata": {
        "id": "KvtfaeJxLVJk"
      },
      "outputs": [],
      "source": [
        "import pickle\n",
        "with open(\"tokenizer.pkl\", \"wb\") as f:\n",
        "    pickle.dump(tokenizer, f)\n"
      ]
    },
    {
      "cell_type": "code",
      "execution_count": null,
      "metadata": {},
      "outputs": [],
      "source": []
    }
  ],
  "metadata": {
    "accelerator": "GPU",
    "colab": {
      "gpuType": "T4",
      "provenance": []
    },
    "kernelspec": {
      "display_name": "Python 3",
      "name": "python3"
    },
    "language_info": {
      "codemirror_mode": {
        "name": "ipython",
        "version": 3
      },
      "file_extension": ".py",
      "mimetype": "text/x-python",
      "name": "python",
      "nbconvert_exporter": "python",
      "pygments_lexer": "ipython3",
      "version": "3.10.11"
    }
  },
  "nbformat": 4,
  "nbformat_minor": 0
}
